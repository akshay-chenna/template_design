{
 "cells": [
  {
   "cell_type": "markdown",
   "id": "77aefe87-38d9-4e8c-be46-46c8389a2afe",
   "metadata": {},
   "source": [
    "## To create figures"
   ]
  },
  {
   "cell_type": "markdown",
   "id": "12a605f1-1e77-4c1c-abad-39864ebe797e",
   "metadata": {},
   "source": [
    "### Make a stacked bar plot"
   ]
  },
  {
   "cell_type": "code",
   "execution_count": 3,
   "id": "e9da0bd4-89b3-404b-8221-ed42bcba6f2d",
   "metadata": {},
   "outputs": [
    {
     "data": {
      "image/png": "[encoded data removed]",
      "text/plain": [
       "<Figure size 324x252 with 1 Axes>"
      ]
     },
     "metadata": {
      "needs_background": "light"
     },
     "output_type": "display_data"
    }
   ],
   "source": [
    "import numpy as np\n",
    "import matplotlib.pyplot as plt\n",
    "import seaborn as sb\n",
    "import matplotlib\n",
    "plt.style.reload_library()\n",
    "\n",
    "dot_products=np.array([[0.08, 0.08, 0.08],[0.22, 0.73, 0.59],[0.13, 0.63, 0.42],[0.15, 0.72, 0.64],[0.52, 0.83, 0.59]])\n",
    "\n",
    "plt.style.use(['nature','high-contrast'])\n",
    "plt.figure(figsize=(4.5,3.5))\n",
    "matplotlib.rcParams.update({'font.size': 9})\n",
    "plt.rcParams['text.usetex'] = True\n",
    "\n",
    "labels= ['P1', 'P2', 'P3', 'P4', 'P5']\n",
    "plt.bar(labels,dot_products[:,0], label='Rigid body docking')\n",
    "plt.bar(labels,dot_products[:,2]-dot_products[:,0], label='MD simulations', bottom=dot_products[:,0])\n",
    "plt.bar(labels,dot_products[:,1]-dot_products[:,2], label='Flexible docking', bottom=dot_products[:,2])\n",
    "plt.ylim([0,1])\n",
    "#plt.ylabel(r\"$\\vec{X_{NSP12}} \\cdot \\vec{Y_{Pep}}$\")\n",
    "plt.ylabel(\"cosine distance\")\n",
    "plt.legend()\n",
    "\n",
    "plt.savefig('dot_products2.pdf', dpi=600, format='pdf', transparent=True, )"
   ]
  },
  {
   "cell_type": "markdown",
   "id": "740351af",
   "metadata": {},
   "source": [
    "## Bar plot subplots"
   ]
  },
  {
   "cell_type": "code",
   "execution_count": 6,
   "id": "88359cb4",
   "metadata": {},
   "outputs": [
    {
     "data": {
      "image/png": "[encoded data removed]",
      "text/plain": [
       "<Figure size 324x252 with 2 Axes>"
      ]
     },
     "metadata": {
      "needs_background": "light"
     },
     "output_type": "display_data"
    }
   ],
   "source": [
    "import numpy as np\n",
    "import matplotlib.pyplot as plt\n",
    "import seaborn as sb\n",
    "import matplotlib\n",
    "plt.style.reload_library()\n",
    "plt.style.use(['nature','high-contrast'])\n",
    "labels= ['P1', 'P2', 'P3', 'P4', 'P5']\n",
    "\n",
    "dot_products=np.array([[0.08, 0.0, 0.0],[0.22, 0.73, 0.59],[0.13, 0.63, 0.42],[0.15, 0.72, 0.64],[0.52, 0.83, 0.59]])\n",
    "\n",
    "matplotlib.rcParams.update({'font.size': 9})\n",
    "\n",
    "fig, axes = plt.subplots(2,1,figsize=(4.5,3.5))\n",
    "ax = axes[0]\n",
    "ax.bar(labels,dot_products[:,0], label='Rigid body docking')\n",
    "ax.set_ylabel(r'$\\cos\\theta$')\n",
    "ax.legend(frameon=False, loc='upper left')\n",
    "ax.set_ylim([0,1])\n",
    "ax = axes[1]\n",
    "ax.bar(labels,0)\n",
    "ax.bar(labels,dot_products[:,1]-dot_products[:,2], label='Flexible docking', bottom=dot_products[:,2])\n",
    "ax.bar(labels,dot_products[:,2], label='MD simulations')\n",
    "ax.set_ylabel(r'$\\cos\\theta$')\n",
    "ax.set_ylim([0,1])\n",
    "ax.legend(ncol=1, frameon=False)\n",
    "plt.savefig('dot_products3.jpg', dpi=600, format='jpg', transparent=True)"
   ]
  },
  {
   "cell_type": "markdown",
   "id": "a22bb484-dd36-475e-a564-5d223f0005d2",
   "metadata": {},
   "source": [
    "### Heatmap of cosine similarity"
   ]
  },
  {
   "cell_type": "code",
   "execution_count": 4,
   "id": "b7b3cc6c-db9e-4aaf-bf5a-487c0c17d09c",
   "metadata": {},
   "outputs": [
    {
     "data": {
      "image/png": "[encoded data removed]",
      "text/plain": [
       "<Figure size 252x252 with 2 Axes>"
      ]
     },
     "metadata": {
      "needs_background": "light"
     },
     "output_type": "display_data"
    }
   ],
   "source": [
    "import numpy as np\n",
    "import matplotlib.pyplot as plt\n",
    "import seaborn as sb\n",
    "import matplotlib\n",
    "plt.style.reload_library()\n",
    "\n",
    "similarity = np.genfromtxt('similarity_simu_merged.txt', delimiter=\",\")\n",
    "similarity[:, [3, 2]] = similarity[:, [2, 3]]\n",
    "plt.figure(figsize=(3.5,3.5))\n",
    "cmap = matplotlib.cm.get_cmap(\"YlGnBu\", 10)\n",
    "sb.heatmap(similarity, vmin=0, vmax=1, xticklabels=['P2', 'P3', 'P4', 'P5'], yticklabels=['C' + str(x) for x in range(1,17)], cmap = cmap, linewidths=0.1)\n",
    "\n",
    "plt.tick_params(\n",
    "    axis='x',          # changes apply to the x-axis\n",
    "    which='both',      # both major and minor ticks are affected\n",
    "    bottom=False,      # ticks along the bottom edge are off\n",
    "    top=False,         # ticks along the top edge are off\n",
    "    ) # labels along the bottom edge are off\n",
    "\n",
    "plt.tick_params(\n",
    "    axis='y',          # changes apply to the x-axis\n",
    "    which='both',      # both major and minor ticks are affected\n",
    "    left=False,      # ticks along the bottom edge are off\n",
    "    right=False,         # ticks along the top edge are off\n",
    "    ) # labels along the bottom edge are off\n",
    "\n",
    "plt.savefig('MD_heatmap.jpg', dpi=600, format='jpg', transparent=True)"
   ]
  },
  {
   "cell_type": "code",
   "execution_count": 5,
   "id": "aa674ec7-502a-4952-b064-f88e472d19de",
   "metadata": {},
   "outputs": [
    {
     "data": {
      "image/png": "[encoded data removed]",
      "text/plain": [
       "<Figure size 252x252 with 2 Axes>"
      ]
     },
     "metadata": {
      "needs_background": "light"
     },
     "output_type": "display_data"
    }
   ],
   "source": [
    "import numpy as np\n",
    "import matplotlib.pyplot as plt\n",
    "import seaborn as sb\n",
    "import matplotlib\n",
    "plt.style.reload_library()\n",
    "\n",
    "similarity = np.genfromtxt('similarity_flexpep.txt')\n",
    "similarity[:, [3, 2]] = similarity[:, [2, 3]]\n",
    "plt.figure(figsize=(3.5,3.5))\n",
    "cmap = matplotlib.cm.get_cmap(\"YlGnBu\", 10)\n",
    "sb.heatmap(similarity, vmin=0, vmax=1, xticklabels=['P2', 'P3', 'P4', 'P5'], yticklabels=['C' + str(x) for x in range(1,17)], cmap = cmap, linewidths=0.1)\n",
    "\n",
    "plt.tick_params(\n",
    "    axis='x',          # changes apply to the x-axis\n",
    "    which='both',      # both major and minor ticks are affected\n",
    "    bottom=False,      # ticks along the bottom edge are off\n",
    "    top=False,         # ticks along the top edge are off\n",
    "    ) # labels along the bottom edge are off\n",
    "\n",
    "plt.tick_params(\n",
    "    axis='y',          # changes apply to the x-axis\n",
    "    which='both',      # both major and minor ticks are affected\n",
    "    left=False,      # ticks along the bottom edge are off\n",
    "    right=False,         # ticks along the top edge are off\n",
    "    ) # labels along the bottom edge are off\n",
    "\n",
    "plt.savefig('flexpep_heatmap.jpg', dpi=600, format='jpg', transparent=True)"
   ]
  },
  {
   "cell_type": "code",
   "execution_count": 7,
   "id": "47586708-9f37-4051-9393-4f74c63b66e8",
   "metadata": {},
   "outputs": [
    {
     "data": {
      "image/png": "[encoded data removed]",
      "text/plain": [
       "<Figure size 252x252 with 2 Axes>"
      ]
     },
     "metadata": {
      "needs_background": "light"
     },
     "output_type": "display_data"
    }
   ],
   "source": [
    "import numpy as np\n",
    "import matplotlib.pyplot as plt\n",
    "import seaborn as sb\n",
    "import matplotlib\n",
    "plt.style.reload_library()\n",
    "\n",
    "similarity = np.genfromtxt('similarity_rigid.txt')\n",
    "similarity = np.transpose(similarity)\n",
    "plt.figure(figsize=(3.5,3.5))\n",
    "cmap = matplotlib.cm.get_cmap(\"YlGnBu\", 10)\n",
    "sb.heatmap(similarity, vmin=0, vmax=1, xticklabels=['P1','P2', 'P3', 'P4', 'P5'], yticklabels=['Cl' + str(x) for x in range(1,17)], cmap = cmap, linewidths=0.1)\n",
    "\n",
    "plt.tick_params(\n",
    "    axis='x',          # changes apply to the x-axis\n",
    "    which='both',      # both major and minor ticks are affected\n",
    "    bottom=False,      # ticks along the bottom edge are off\n",
    "    top=False,         # ticks along the top edge are off\n",
    "    ) # labels along the bottom edge are off\n",
    "\n",
    "plt.tick_params(\n",
    "    axis='y',          # changes apply to the x-axis\n",
    "    which='both',      # both major and minor ticks are affected\n",
    "    left=False,      # ticks along the bottom edge are off\n",
    "    right=False,         # ticks along the top edge are off\n",
    "    ) # labels along the bottom edge are off\n",
    "\n",
    "plt.savefig('rigid_heatmap.jpg', dpi=600, format='jpg', transparent=True)"
   ]
  },
  {
   "cell_type": "markdown",
   "id": "07f60f2e-c96d-4a65-99a3-dbfbae144117",
   "metadata": {},
   "source": [
    "## Plot of delta SASA on NSP12"
   ]
  },
  {
   "cell_type": "code",
   "execution_count": 46,
   "id": "4bf40bf9-b903-45ea-95f4-8a14b941d152",
   "metadata": {},
   "outputs": [
    {
     "data": {
      "image/png": "[encoded data removed]",
      "text/plain": [
       "<Figure size 432x288 with 1 Axes>"
      ]
     },
     "metadata": {
      "needs_background": "light"
     },
     "output_type": "display_data"
    }
   ],
   "source": [
    "import numpy as np\n",
    "import matplotlib.pyplot as plt\n",
    "import seaborn as sb\n",
    "import matplotlib\n",
    "\n",
    "plt.style.use(['science','nature','high-contrast'])\n",
    "hotspot_area = np.genfromtxt('hotspot_area_avg.txt')\n",
    "plt.figure(figsize=(6,4))\n",
    "\n",
    "non_zero = np.argwhere(hotspot_area)\n",
    "#plt.plot(hotspot_area[hotspot_area>0], linestyle=\"\", marker=\"o\",markeredgecolor='k', markerfacecolor=\"None\", markersize=5, markeredgewidth=1.5)\n",
    "plt.scatter(non_zero, hotspot_area[hotspot_area>0], facecolor=(1,1,0,0.4), edgecolor='k', s=20)\n",
    "plt.xlabel('Residue')\n",
    "plt.ylabel(r'Hotspot area ($P_c\\Delta A$)')\n",
    "plt.xlim([0,850])\n",
    "\n",
    "plt.savefig('hotspot_avg_area.pdf', dpi=600, format='pdf', transparent=True)"
   ]
  },
  {
   "cell_type": "markdown",
   "id": "c58dd6ff-c066-4b17-8e91-e2e02789c26c",
   "metadata": {},
   "source": [
    "## Bar plot of delta SASA on NSP12"
   ]
  },
  {
   "cell_type": "code",
   "execution_count": 1,
   "id": "c730c94a-5c39-4201-9928-7e3d93d518b0",
   "metadata": {},
   "outputs": [
    {
     "data": {
      "image/png": "[encoded data removed]",
      "text/plain": [
       "<Figure size 432x288 with 1 Axes>"
      ]
     },
     "metadata": {
      "needs_background": "light"
     },
     "output_type": "display_data"
    }
   ],
   "source": [
    "import numpy as np\n",
    "import matplotlib.pyplot as plt\n",
    "import seaborn as sb\n",
    "import matplotlib\n",
    "\n",
    "plt.style.use(['science','nature','no-latex','high-contrast'])\n",
    "hotspot_area = np.genfromtxt('hotspot_area_avg.txt')\n",
    "plt.figure(figsize=(6,4))\n",
    "\n",
    "non_zero = np.argwhere(hotspot_area)\n",
    "plt.bar(np.arange(1,len(hotspot_area)+1),hotspot_area)\n",
    "plt.xlabel('# Residue')\n",
    "plt.ylabel(r'$\\langle \\Delta A_{i,1} \\rangle$')\n",
    "plt.savefig('hotspot_avg_area_bar2.jpeg', dpi=300, format='jpg', transparent=True)"
   ]
  },
  {
   "cell_type": "markdown",
   "id": "21bce948-038a-4ea5-96af-05607836c928",
   "metadata": {},
   "source": [
    "## Make a heatmap of TM-scores"
   ]
  },
  {
   "cell_type": "code",
   "execution_count": 2,
   "id": "a1edab91-948f-4958-9195-80df1e5431ae",
   "metadata": {},
   "outputs": [
    {
     "data": {
      "image/png": "[encoded data removed]",
      "text/plain": [
       "<Figure size 288x216 with 2 Axes>"
      ]
     },
     "metadata": {
      "needs_background": "light"
     },
     "output_type": "display_data"
    }
   ],
   "source": [
    "import numpy as np\n",
    "import matplotlib.pyplot as plt\n",
    "import matplotlib\n",
    "import seaborn as sb\n",
    "\n",
    "tmscores = np.genfromtxt('TMscores.txt', delimiter=\",\")\n",
    "\n",
    "plt.figure(figsize=(4,3))\n",
    "cmap = matplotlib.cm.get_cmap(\"Set3\", 2)\n",
    "#ax = sb.heatmap(tmscores, cmap=cmap, linewidth=0.1, xticklabels=['S' + str(x) for x in range(1,14)])\n",
    "#ax = sb.heatmap(tmscores, cmap=cmap, linewidth=0.1, xticklabels=['S31','S32','S33','S34','S37','S38','S40','S41','S42','S43','S44','S45','S49'])\n",
    "ax = sb.heatmap(tmscores, cmap=cmap, linewidth=0.1, xticklabels=['S'+str(i) for i in range(1,14)])\n",
    "plt.xlabel('Sequences')\n",
    "plt.ylabel('Conformations')\n",
    "plt.yticks([0,32,64],['C1','C33','C65'])\n",
    "\n",
    "\n",
    "\n",
    "plt.tick_params(\n",
    "    axis='x',          # changes apply to the x-axis\n",
    "    which='both',      # both major and minor ticks are affected\n",
    "    bottom=False,      # ticks along the bottom edge are off\n",
    "    top=False,         # ticks along the top edge are off\n",
    "    ) # labels along the bottom edge are off\n",
    "\n",
    "plt.tick_params(\n",
    "    axis='y',          # changes apply to the x-axis\n",
    "    which='both',      # both major and minor ticks are affected\n",
    "    left=False,      # ticks along the bottom edge are off\n",
    "    right=False,         # ticks along the top edge are off\n",
    "    ) # labels along the bottom edge are off\n",
    "\n",
    "\n",
    "cbar = ax.collections[0].colorbar\n",
    "cbar.set_ticks([0, .5, 1])\n",
    "cbar.set_ticklabels(['0', '0.5', '1'])\n",
    "cbar.ax.tick_params(size=0)\n",
    "\n",
    "plt.savefig('TMscore_map3.jpeg', dpi=300, format='jpg', bbox_inches='tight', transparent=True)"
   ]
  },
  {
   "cell_type": "markdown",
   "id": "356e2f90-55e3-4db0-a515-bc9cc8b98c0a",
   "metadata": {},
   "source": [
    "## RMSD of pepfold generated peptides wrt to origin domain plots"
   ]
  },
  {
   "cell_type": "code",
   "execution_count": 1,
   "id": "77165d3a-4469-4b88-9133-668fbba15ad2",
   "metadata": {},
   "outputs": [
    {
     "data": {
      "image/png": "[encoded data removed]",
      "text/plain": [
       "<Figure size 216x288 with 2 Axes>"
      ]
     },
     "metadata": {
      "needs_background": "light"
     },
     "output_type": "display_data"
    }
   ],
   "source": [
    "import numpy as np\n",
    "import matplotlib.pyplot as plt\n",
    "import matplotlib\n",
    "import seaborn as sb\n",
    "\n",
    "rmsd = np.genfromtxt('all_rmsd_conf.txt')\n",
    "\n",
    "plt.figure(figsize=(3,4))\n",
    "cmap = matplotlib.cm.get_cmap(\"Set3\", 2)\n",
    "#ax = sb.heatmap(rmsd, cmap=cmap, linewidth=0.1, vmin=0, vmax=0.7, xticklabels=['C1','C2','C3','C4','C5'], yticklabels=['S14', 'S17','S18','S26','S27','S28','S29','S30','S31','S32','S33','S34','S37','S38','S40','S41','S42','S43','S44','S45','S48','S49','S50'])\n",
    "ax = sb.heatmap(rmsd, cmap=cmap, linewidth=0.1, vmin=0, vmax=0.7, xticklabels=['C1','C2','C3','C4','C5'], yticklabels=['I'+str(i) for i in range(1,24)] + ['M1', 'M2'])\n",
    "plt.xlabel('Conformations')\n",
    "plt.ylabel('Sequences')\n",
    "\n",
    "\n",
    "plt.tick_params(\n",
    "    axis='x',          # changes apply to the x-axis\n",
    "    which='both',      # both major and minor ticks are affected\n",
    "    bottom=False,      # ticks along the bottom edge are off\n",
    "    top=False,         # ticks along the top edge are off\n",
    "    ) # labels along the bottom edge are off\n",
    "\n",
    "plt.tick_params(\n",
    "    axis='y',          # changes apply to the x-axis\n",
    "    which='both',      # both major and minor ticks are affected\n",
    "    left=False,      # ticks along the bottom edge are off\n",
    "    right=False,         # ticks along the top edge are off\n",
    "    ) # labels along the bottom edge are off\n",
    "\n",
    "cbar = ax.collections[0].colorbar\n",
    "cbar.set_ticks([0, .35, 0.7])\n",
    "cbar.set_ticklabels(['0', '0.35', ''])\n",
    "cbar.ax.tick_params(size=0)\n",
    "\n",
    "plt.savefig('rmsd_pepfold_2.jpg', dpi=600, format='jpg',  bbox_inches='tight', transparent=True)"
   ]
  },
  {
   "cell_type": "markdown",
   "id": "012bde8a-94c6-46ef-b626-edf50ff18c91",
   "metadata": {},
   "source": [
    "## Plot hotspot areas for best 50 peptides"
   ]
  },
  {
   "cell_type": "code",
   "execution_count": 128,
   "id": "00a1d0b0-600f-4b26-a1a1-6366c40086bc",
   "metadata": {},
   "outputs": [
    {
     "data": {
      "image/png": "[encoded data removed]",
      "text/plain": [
       "<Figure size 432x288 with 1 Axes>"
      ]
     },
     "metadata": {
      "needs_background": "light"
     },
     "output_type": "display_data"
    }
   ],
   "source": [
    "import numpy as np\n",
    "import matplotlib.pyplot as plt\n",
    "import matplotlib\n",
    "import seaborn as sb\n",
    "\n",
    "areas = np.genfromtxt('top50_area.txt')\n",
    "yellow_colored = np.genfromtxt('length_lessthan_12aa.txt').astype(int)-1 # load sequence number of peptides with less than or equal to 12 amino acids\n",
    "green_colored = np.genfromtxt('rmsd_selected_35.txt').astype(int) -1  # load sequence number of peptides with BB Rmsd < 0.35\n",
    "areas_colored_yellow = areas[yellow_colored]\n",
    "areas_colored_green = areas[green_colored]\n",
    "plt.figure(figsize=(6,4))\n",
    "plt.style.use(['science','nature','no-latex','high-contrast'])\n",
    "plt.plot(areas, linestyle=\"\", marker='o', markeredgecolor='k', markerfacecolor=\"None\", markersize=5, markeredgewidth=1)\n",
    "plt.scatter(yellow_colored, areas_colored_yellow, s=10, c='y')\n",
    "plt.scatter(green_colored, areas_colored_green, s=10, c='g')\n",
    "plt.text(30.5-1.2,0.462,'P1')\n",
    "plt.text(31.5-0.8,0.462,'P2')\n",
    "plt.text(32.6-1,0.449,'P3')\n",
    "plt.text(42.5-1,0.409,'P4', weight='bold', fontsize='8')\n",
    "\n",
    "for i in range(9):\n",
    "    plt.text(green_colored[i]-0.5, areas_colored_green[i]-.008, 'S'+str(i+1), fontsize='4')\n",
    "\n",
    "plt.text(green_colored[9]-0.65, areas_colored_green[9]-.0078, 'S'+str(10), fontsize='4')\n",
    "plt.text(green_colored[10]-0.5, areas_colored_green[10]-.008, 'S'+str(11), fontsize='4')\n",
    "plt.text(green_colored[11]-0.3, areas_colored_green[11]-.008, 'S'+str(12), fontsize='4')\n",
    "plt.text(green_colored[12]-0.7, areas_colored_green[12]-.0078, 'S'+str(13), fontsize='4')\n",
    "\n",
    "plt.xlabel('# Sequence')\n",
    "#plt.ylabel('$\\Sigma_r P_r\\Delta A_r$' + ' ' + '($\\mathrm{nm}^2$)')\n",
    "plt.ylabel(r'$A_{S,1}$')\n",
    "plt.savefig('top50_area4.jpg', dpi=600, format='jpg', transparent=True)"
   ]
  },
  {
   "cell_type": "code",
   "execution_count": 99,
   "id": "4f0a1c10-3e6e-4a40-a164-6ef42c0af672",
   "metadata": {},
   "outputs": [
    {
     "data": {
      "text/plain": [
       "13"
      ]
     },
     "execution_count": 99,
     "metadata": {},
     "output_type": "execute_result"
    }
   ],
   "source": [
    "len(green_colored)"
   ]
  },
  {
   "cell_type": "markdown",
   "id": "4fb17664-b3e3-43b9-b00f-18e0cdd40f00",
   "metadata": {},
   "source": [
    "## SPR plots\n",
    "### NSP7-NSP12"
   ]
  },
  {
   "cell_type": "code",
   "execution_count": 63,
   "id": "18e79c0a-f4a1-468b-9222-965a7878fa92",
   "metadata": {},
   "outputs": [
    {
     "data": {
      "image/png": "[encoded data removed]",
      "text/plain": [
       "<Figure size 234x72 with 1 Axes>"
      ]
     },
     "metadata": {
      "needs_background": "light"
     },
     "output_type": "display_data"
    }
   ],
   "source": [
    "import matplotlib.pyplot as plt\n",
    "import seaborn as sb\n",
    "import matplotlib\n",
    "import numpy as np\n",
    "\n",
    "data1 = np.genfromtxt(\"spr-nsp12_7/nsp7-12_1.txt\")\n",
    "data2 = np.genfromtxt(\"spr-nsp12_7/nsp7-12_2.txt\")\n",
    "data3 = np.genfromtxt(\"spr-nsp12_7/nsp7-12_3.txt\")\n",
    "data4 = np.genfromtxt(\"spr-nsp12_7/nsp7-12_4.txt\")\n",
    "data5 = np.genfromtxt(\"spr-nsp12_7/nsp7-12_5.txt\")\n",
    "plt.figure(figsize=(3.25,1))\n",
    "plt.rcParams['font.size'] = '6'\n",
    "#plt.style.use(['science','nature'])\n",
    "plt.plot(data1[:,0],data1[:,1], label='0.19', linewidth=2)\n",
    "plt.plot(data2[:,0],data2[:,1], label='0.39', linewidth=2)\n",
    "plt.plot(data3[:,0],data3[:,1], label='0.78', linewidth=2)\n",
    "plt.plot(data4[:,0],data4[:,1], label='1.56', linewidth=2)\n",
    "plt.plot(data5[:,0],data5[:,1], label='3.12', linewidth=2)\n",
    "plt.xlim([0, 120])\n",
    "plt.ylim([1,130])\n",
    "plt.xlabel(\"Time (s)\", fontsize=6)\n",
    "plt.xticks(fontsize=6)\n",
    "plt.yticks(fontsize=6)\n",
    "plt.ylabel(\"Response (RU)\", fontsize=6)\n",
    "#leg = plt.legend(title='conc ($\\mu$M)', prop={'size':6}, loc=(1,0.37))\n",
    "#leg = plt.legend(prop={'size':8})\n",
    "#leg.get_frame().set_alpha(0)\n",
    "#plt.legend(frameon=False)\n",
    "#plt.title('nsp7-nsp12', fontsize=7.5)\n",
    "#plt.text(122,120, 'nsp12-nsp7')\n",
    "#plt.text(5,100,'K$\\mathrm{_D}$=473 nM')\n",
    "#leg = plt.legend(prop={'size':6}, loc=(0.57,0.5), ncol=2)\n",
    "#plt.text(80,117, 'conc ($\\mu$M)', fontsize='6')\n",
    "#leg.get_frame().set_alpha(0)\n",
    "ax = plt.gca()\n",
    "ax.xaxis.set_visible(False)\n",
    "plt.text(122,100, 'nsp12-nsp7 \\nK$\\mathrm{_D}$=473 nM', fontsize=6)\n",
    "plt.savefig('5spr_nsp7-12.jpg', dpi=600, format='jpg', transparent=True, bbox_inches='tight', pad_inches=0)"
   ]
  },
  {
   "cell_type": "markdown",
   "id": "d1f65c12-3a86-434f-aebd-c81e94e20a6d",
   "metadata": {},
   "source": [
    "### NSP7-P4"
   ]
  },
  {
   "cell_type": "code",
   "execution_count": 3,
   "id": "93a7b912-7031-4882-8578-69c42a000b5f",
   "metadata": {},
   "outputs": [
    {
     "data": {
      "image/png": "[encoded data removed]",
      "text/plain": [
       "<Figure size 234x72 with 1 Axes>"
      ]
     },
     "metadata": {
      "needs_background": "light"
     },
     "output_type": "display_data"
    }
   ],
   "source": [
    "import matplotlib.pyplot as plt\n",
    "import seaborn as sb\n",
    "import matplotlib\n",
    "import numpy as np\n",
    "\n",
    "data1 = np.genfromtxt(\"spr-nsp7_p4/nsp7_p4-1.txt\")\n",
    "data2 = np.genfromtxt(\"spr-nsp7_p4/nsp7_p4-2.txt\")\n",
    "data3 = np.genfromtxt(\"spr-nsp7_p4/nsp7_p4-3.txt\")\n",
    "data4 = np.genfromtxt(\"spr-nsp7_p4/nsp7_p4-4.txt\")\n",
    "data5 = np.genfromtxt(\"spr-nsp7_p4/nsp7_p4-5.txt\")\n",
    "plt.figure(figsize=(3.25,1))\n",
    "#plt.style.use(['science','nature'])\n",
    "plt.rcParams['font.size'] = '6'\n",
    "plt.plot(data1[:,0],data1[:,1], label='0.19', linewidth=2)\n",
    "plt.plot(data2[:,0],data2[:,1], label='0.39', linewidth=2)\n",
    "plt.plot(data3[:,0],data3[:,1], label='0.78', linewidth=2)\n",
    "plt.plot(data4[:,0],data4[:,1], label='1.56', linewidth=2)\n",
    "plt.plot(data5[:,0],data5[:,1], label='3.12', linewidth=2)\n",
    "plt.xlim([0, 120])\n",
    "plt.ylim([1,130])\n",
    "\n",
    "#plt.xlabel(\"Time (s)\", fontsize=7.5)\n",
    "plt.xticks(fontsize=6)\n",
    "plt.yticks(fontsize=6)\n",
    "plt.ylabel(\"Response (RU)\", fontsize=6)\n",
    "leg = plt.legend(prop={'size':5}, loc=(1.0,-0.06), ncol=1)\n",
    "#leg = plt.legend(title='conc ($\\mu$M)', prop={'size':7.5})\n",
    "#leg = plt.legend(prop={'size':8})\n",
    "leg.get_frame().set_alpha(0)\n",
    "#plt.legend(frameon=False)\n",
    "#leg.get_frame().set_alpha(0)\n",
    "#plt.text(5,100,'K$\\mathrm{_D}$=133 nM')\n",
    "plt.text(122,100, '(R)$_2$P4-nsp7 \\nK$\\mathrm{_D}$=133 nM', fontsize=6)\n",
    "plt.text(121,82, 'conc ($\\mu$M)', fontsize='5')\n",
    "ax = plt.gca()\n",
    "ax.xaxis.set_visible(False)\n",
    "#plt.title('P4-nsp7', fontsize=7.5)\n",
    "plt.savefig('6spr_nsp7-p4.jpg', dpi=600, format='jpg', transparent=True,  bbox_inches='tight', pad_inches=0)"
   ]
  },
  {
   "cell_type": "markdown",
   "id": "a4e41d25-37d8-4205-ae2b-9b0d523a16e9",
   "metadata": {},
   "source": [
    "### SPR NSP7-P5"
   ]
  },
  {
   "cell_type": "code",
   "execution_count": 2,
   "id": "bedc7771-e530-4b93-b2c0-e61296b637ba",
   "metadata": {},
   "outputs": [
    {
     "data": {
      "image/png": "[encoded data removed]",
      "text/plain": [
       "<Figure size 234x72 with 1 Axes>"
      ]
     },
     "metadata": {
      "needs_background": "light"
     },
     "output_type": "display_data"
    }
   ],
   "source": [
    "import matplotlib.pyplot as plt\n",
    "import seaborn as sb\n",
    "import matplotlib\n",
    "import numpy as np\n",
    "\n",
    "data1 = np.genfromtxt(\"spr-nsp7_p5/nsp7_p5-1.txt\")\n",
    "data2 = np.genfromtxt(\"spr-nsp7_p5/nsp7_p5-2.txt\")\n",
    "data3 = np.genfromtxt(\"spr-nsp7_p5/nsp7_p5-3.txt\")\n",
    "data4 = np.genfromtxt(\"spr-nsp7_p5/nsp7_p5-4.txt\")\n",
    "data5 = np.genfromtxt(\"spr-nsp7_p5/nsp7_p5-5.txt\")\n",
    "plt.figure(figsize=(3.25,1))\n",
    "plt.rcParams['font.size'] = '6'\n",
    "#plt.style.use(['science','nature'])\n",
    "plt.plot(data1[:,0],data1[:,1], label='0.19', linewidth=2)\n",
    "plt.plot(data2[:,0],data2[:,1], label='0.39', linewidth=2)\n",
    "plt.plot(data3[:,0],data3[:,1], label='0.78', linewidth=2)\n",
    "plt.plot(data4[:,0],data4[:,1], label='1.56', linewidth=2)\n",
    "plt.plot(data5[:,0],data5[:,1], label='3.12', linewidth=2)\n",
    "plt.xlim([0, 120])\n",
    "plt.ylim([1,130])\n",
    "\n",
    "plt.xlabel(\"Time (s)\", fontsize=6)\n",
    "plt.xticks(fontsize=6)\n",
    "plt.yticks(fontsize=6)\n",
    "plt.ylabel(\"Response (RU)\", fontsize=6)\n",
    "#plt.text(5,100,'K$\\mathrm{_D}$=167 nM')\n",
    "#leg = plt.legend(title='conc ($\\mu$M)', prop={'size':7.5})\n",
    "#leg = plt.legend(prop={'size':8})\n",
    "#leg.get_frame().set_alpha(0)\n",
    "#plt.legend(frameon=False)\n",
    "#plt.title('P5-nsp7', fontsize=7.5)\n",
    "plt.text(122,80, '(R)$_3$P5-nsp7 \\nK$\\mathrm{_D}$=167 nM', fontsize=6)\n",
    "plt.savefig('6spr_nsp7-p5.jpg', dpi=600, format='jpg', transparent=True, bbox_inches='tight', pad_inches=0)"
   ]
  },
  {
   "cell_type": "markdown",
   "id": "cc3d947b-fd25-4a91-94a6-f917810b8637",
   "metadata": {},
   "source": [
    "## ELISA plot"
   ]
  },
  {
   "cell_type": "code",
   "execution_count": 29,
   "id": "ed2a40e3-a1a2-4722-a491-d5abe5682862",
   "metadata": {},
   "outputs": [
    {
     "data": {
      "text/plain": [
       "Text(0, 0.5, 'OD (450 nm)')"
      ]
     },
     "execution_count": 29,
     "metadata": {},
     "output_type": "execute_result"
    },
    {
     "data": {
      "image/png": "[encoded data removed]",
      "text/plain": [
       "<Figure size 360x360 with 1 Axes>"
      ]
     },
     "metadata": {
      "needs_background": "light"
     },
     "output_type": "display_data"
    }
   ],
   "source": [
    "import matplotlib.pyplot as plt\n",
    "import seaborn as sb\n",
    "import matplotlib\n",
    "import numpy as np\n",
    "\n",
    "values = np.array([2.25,2.1,1.7,2.05,2.05,2.1,2.6,0.2])\n",
    "\n",
    "plt.style.use(['science','nature','high-contrast'])\n",
    "plt.figure(figsize=(5,5))\n",
    "#matplotlib.rcParams.update({'font.size': })\n",
    "#plt.rcParams['text.usetex'] = True\n",
    "\n",
    "labels= ['P4 (1:1)', 'P4 (1:3)', 'P4 (1:5)', 'P5 (1:1)', 'P5 (1:3)', 'P5 (1:5)', 'Positive', 'Control']\n",
    "plt.bar(labels,values, hatch='x', color=\"white\", edgecolor=\"black\")\n",
    "#plt.bar(labels,values, color=\"white\", edgecolor=\"black\")\n",
    "\n",
    "plt.ylim([0,3])\n",
    "#plt.ylabel(r\"$\\vec{X_{NSP12}} \\cdot \\vec{Y_{Pep}}$\")\n",
    "plt.ylabel(\"OD (450 nm)\")\n",
    "#plt.legend()\n",
    "\n",
    "#plt.savefig('elisa3.jpg', dpi=600, format='jpg', transparent=True)"
   ]
  },
  {
   "cell_type": "markdown",
   "id": "6f31bbfc-5380-4ab1-b993-06add2bb3587",
   "metadata": {},
   "source": [
    "# ELISA line plots"
   ]
  },
  {
   "cell_type": "code",
   "execution_count": 1,
   "id": "72ca2cb6-92de-4219-98d1-872d76ffa694",
   "metadata": {},
   "outputs": [],
   "source": [
    "import numpy as np\n",
    "import matplotlib.pyplot as plt\n",
    "import matplotlib\n",
    "import seaborn as sb\n",
    "from scipy.optimize import curve_fit"
   ]
  },
  {
   "cell_type": "code",
   "execution_count": 2,
   "id": "365fc58f-a4dd-487a-ba59-f36b0357f97d",
   "metadata": {},
   "outputs": [],
   "source": [
    "p4 = [[2.455,\t2.077,\t2.312],\n",
    "[2.14,\t2.04,\t2.01],\n",
    "[1.899,\t1.654,\t1.712],\n",
    "[1.292,\t1.312,\t1.523],\n",
    "[1.311,\t1.341,\t1.443],\n",
    "[2.684,\t2.388,\t2.453]]"
   ]
  },
  {
   "cell_type": "code",
   "execution_count": 3,
   "id": "c47dedea-fb18-4aaf-ba7b-efe21cfc9a00",
   "metadata": {},
   "outputs": [],
   "source": [
    "p5 = [[2.135,\t1.995,\t2.344],\n",
    "[2.083,\t2.005,\t2.212],\n",
    "[2.167,\t2.01,\t2.121],\n",
    "[2.384,\t2.388,\t2.388],\n",
    "[2.167,\t2.01,\t2.121],\n",
    "[2.684,\t2.388,\t2.453]]"
   ]
  },
  {
   "cell_type": "code",
   "execution_count": 4,
   "id": "c0cc216e-f003-4504-bce1-7f603a5985eb",
   "metadata": {},
   "outputs": [],
   "source": [
    "p4_mean = np.mean(p4, axis=1)\n",
    "p5_mean = np.mean(p5, axis=1)\n",
    "\n",
    "p4_std = np.std(p4, axis=1)\n",
    "p5_std = np.std(p5, axis=1)\n",
    "\n",
    "p4_scaled = p4_mean/p4_mean[-1]\n",
    "p5_scaled = p5_mean/p5_mean[-1]\n",
    "\n",
    "p4_std_scaled = p4_std/p4_mean[-1]\n",
    "p5_std_scaled = p5_std/p5_mean[-1]\n",
    "\n",
    "x_p4 = np.array([7.5, 7.5*3, 7.5*5, 7.5*10, 7.5*20, 0])\n",
    "x_p5 = np.array([5.5, 5.5*3, 5.5*5, 5.5*10, 5.5*20, 0])"
   ]
  },
  {
   "cell_type": "code",
   "execution_count": 5,
   "id": "1fca4e9f-9f26-4976-86cb-b7fe5eee7253",
   "metadata": {},
   "outputs": [
    {
     "data": {
      "text/plain": [
       "array([0.90950166, 0.82259136, 0.69966777, 0.54843854, 0.54418605,\n",
       "       1.        ])"
      ]
     },
     "execution_count": 5,
     "metadata": {},
     "output_type": "execute_result"
    }
   ],
   "source": [
    "p4_scaled"
   ]
  },
  {
   "cell_type": "code",
   "execution_count": 6,
   "id": "e43a6bf1-1499-4c90-b6aa-1dafb30043da",
   "metadata": {},
   "outputs": [],
   "source": [
    "p4_scaled_reorder = np.hstack((p4_scaled[-1],p4_scaled[:-1]))\n",
    "x_p4_reorder = np.hstack((x_p4[-1],x_p4[:-1]))\n",
    "p5_scaled_reorder = np.hstack((p5_scaled[-1],p5_scaled[:-1]))\n",
    "x_p5_reorder = np.hstack((x_p5[-1],x_p5[:-1]))"
   ]
  },
  {
   "cell_type": "code",
   "execution_count": 7,
   "id": "e0380e51-5c0a-4926-a43f-b3ef59ad417a",
   "metadata": {},
   "outputs": [],
   "source": [
    "p4_response = np.max(p4_scaled_reorder)-p4_scaled_reorder\n",
    "p5_response = np.max(p5_scaled_reorder)-p5_scaled_reorder"
   ]
  },
  {
   "cell_type": "code",
   "execution_count": 8,
   "id": "a8e1ecd3-54fd-49e6-a0b7-137d8f028433",
   "metadata": {},
   "outputs": [
    {
     "data": {
      "text/plain": [
       "array([0.        , 0.09049834, 0.17740864, 0.30033223, 0.45156146,\n",
       "       0.45581395])"
      ]
     },
     "execution_count": 8,
     "metadata": {},
     "output_type": "execute_result"
    }
   ],
   "source": [
    "p4_response"
   ]
  },
  {
   "cell_type": "code",
   "execution_count": 9,
   "id": "62c73cda-b724-4a93-8d37-06721228747c",
   "metadata": {},
   "outputs": [
    {
     "data": {
      "text/plain": [
       "array([0.        , 0.13966777, 0.1627907 , 0.16305648, 0.04850498,\n",
       "       0.16305648])"
      ]
     },
     "execution_count": 9,
     "metadata": {},
     "output_type": "execute_result"
    }
   ],
   "source": [
    "p5_response"
   ]
  },
  {
   "cell_type": "code",
   "execution_count": 10,
   "id": "e17d10dc-d509-40ea-b204-b5a2a70fcef2",
   "metadata": {},
   "outputs": [],
   "source": [
    "p4_R = p4_response/np.max(p4_response)\n",
    "p5_R = p5_response/np.max(p5_response)"
   ]
  },
  {
   "cell_type": "code",
   "execution_count": 11,
   "id": "a009b77c-7de2-410d-a099-27b368eae328",
   "metadata": {},
   "outputs": [
    {
     "name": "stderr",
     "output_type": "stream",
     "text": [
      "/var/folders/r7/prwgs5r17y36dgc_n0h6rd300000gn/T/ipykernel_50282/1431482478.py:2: RuntimeWarning: divide by zero encountered in true_divide\n",
      "  return 1/(1+(a/x)**2)\n"
     ]
    }
   ],
   "source": [
    "def fitting(x, a):\n",
    "    return 1/(1+(a/x)**2)\n",
    "ic50, param_cov = curve_fit(fitting, x_p4_reorder, p4_R)\n",
    "y_test = fitting(np.linspace(0.,155,100), *ic50)"
   ]
  },
  {
   "cell_type": "code",
   "execution_count": 12,
   "id": "a69c8c4d-4d83-4618-9b91-417464825185",
   "metadata": {},
   "outputs": [
    {
     "data": {
      "text/plain": [
       "array([25.40504817])"
      ]
     },
     "execution_count": 12,
     "metadata": {},
     "output_type": "execute_result"
    }
   ],
   "source": [
    "ic50"
   ]
  },
  {
   "cell_type": "code",
   "execution_count": 29,
   "id": "b00519fd-778b-4d1c-9ef3-ae3b94fff5c3",
   "metadata": {},
   "outputs": [
    {
     "data": {
      "image/png": "[encoded data removed]",
      "text/plain": [
       "<Figure size 288x216 with 1 Axes>"
      ]
     },
     "metadata": {
      "needs_background": "light"
     },
     "output_type": "display_data"
    }
   ],
   "source": [
    "plt.style.reload_library()\n",
    "plt.style.use(['nature','no-latex'])\n",
    "plt.figure(figsize=(4,3))\n",
    "\n",
    "plt.errorbar(x_p4_reorder, p4_R, yerr=p4_std_scaled, fmt='o', color='navy', alpha=0.6, ms=6, elinewidth=2)\n",
    "#plt.errorbar(x_p5_reorder, p5_R, yerr=p5_std_scaled, fmt='o', color='coral', alpha=0.6, ms=6, elinewidth=2)\n",
    "#plt.legend([r'(R)$_2$P4',r'(R)$_3$P5'], fontsize='11', bbox_to_anchor =(1, 0.3), frameon=False)\n",
    "plt.plot(np.linspace(0,151,100),y_test, color='navy', linewidth=2)\n",
    "#plt.axhline(y=0.5, xmin=0, xmax=1, color='k', linestyle='--')\n",
    "plt.plot((-4,25),(0.5,0.5), 'k--', linewidth=2)\n",
    "plt.plot((25,25),(0,0.5), 'k--', linewidth=2)\n",
    "plt.xlabel(r'[Inhibitor] ($\\mu$M)', fontsize='11')\n",
    "plt.text(27,0.48,r'IC$_{50}$', fontsize='11')\n",
    "#plt.ylabel(r'$\\frac{\\mathrm{OD_{max}-OD}}{\\mathrm{OD_{max}}}$', fontsize='11')\n",
    "plt.ylabel(r'$\\mathrm{\\frac{R}{R_{max}}}$', fontsize=11)\n",
    "plt.ylim([0.0, 1.1])\n",
    "plt.xlim([-3, 155])\n",
    "plt.xticks(fontsize='11')\n",
    "plt.yticks(fontsize='11')\n",
    "\n",
    "\n",
    "plt.savefig('elisa_line_response_2.jpg', dpi=600, format='jpg', transparent=True, bbox_inches='tight', pad_inches=0.05)"
   ]
  },
  {
   "cell_type": "markdown",
   "id": "2176f5ae-2efb-4443-9402-2446cbb318cc",
   "metadata": {},
   "source": [
    "# Ki calculation"
   ]
  },
  {
   "cell_type": "code",
   "execution_count": 8,
   "id": "fa4516c0-1b84-4804-bdf5-4ae31bb3b796",
   "metadata": {},
   "outputs": [
    {
     "data": {
      "text/plain": [
       "48.377443305217454"
      ]
     },
     "execution_count": 8,
     "metadata": {},
     "output_type": "execute_result"
    }
   ],
   "source": [
    "75/(((0.7/0.54-0.09)/0.473)-1)\n",
    "#I_tot/(((E_tot/i-fSs)/Km)-1)"
   ]
  },
  {
   "cell_type": "markdown",
   "id": "3e888bdb-4063-4daa-bd1d-97d9ffb123ea",
   "metadata": {},
   "source": [
    "# ELISA plots"
   ]
  },
  {
   "cell_type": "code",
   "execution_count": 32,
   "id": "ebd70f8c-49ff-46c3-b9c4-0e98cdd24671",
   "metadata": {},
   "outputs": [],
   "source": [
    "import numpy as np\n",
    "import matplotlib.pyplot as plt\n",
    "import matplotlib\n",
    "import seaborn as sb"
   ]
  },
  {
   "cell_type": "code",
   "execution_count": 33,
   "id": "9ed610d1-a964-41d4-a5d7-bf9e684a0f2b",
   "metadata": {},
   "outputs": [],
   "source": [
    "p4 = [[2.455,\t2.077,\t2.312],\n",
    "[2.14,\t2.04,\t2.01],\n",
    "[1.899,\t1.654,\t1.712],\n",
    "[1.292,\t1.312,\t1.523],\n",
    "[1.311,\t1.341,\t1.443],\n",
    "[2.684,\t2.388,\t2.453]]\n",
    "\n",
    "p5 = [[2.135,\t1.995,\t2.344],\n",
    "[2.083,\t2.005,\t2.212],\n",
    "[2.167,\t2.01,\t2.121],\n",
    "[2.384,\t2.388,\t2.388],\n",
    "[2.167,\t2.01,\t2.121],\n",
    "[2.684,\t2.388,\t2.453]]"
   ]
  },
  {
   "cell_type": "code",
   "execution_count": 34,
   "id": "9b004114-d940-46a3-a862-b6d18f2e6adc",
   "metadata": {},
   "outputs": [],
   "source": [
    "p4_mean = np.mean(p4, axis=1)\n",
    "p5_mean = np.mean(p5, axis=1)\n",
    "\n",
    "p4_std = np.std(p4, axis=1)\n",
    "p5_std = np.std(p5, axis=1)"
   ]
  },
  {
   "cell_type": "code",
   "execution_count": 47,
   "id": "0324b256-7677-4b61-85eb-8bbebb9d3cbd",
   "metadata": {},
   "outputs": [
    {
     "name": "stderr",
     "output_type": "stream",
     "text": [
      "/var/folders/r7/prwgs5r17y36dgc_n0h6rd300000gn/T/ipykernel_69900/1523200844.py:9: UserWarning: FixedFormatter should only be used together with FixedLocator\n",
      "  ax.set_xticklabels(['','1:80\\n(1:1)','1:240\\n(1:3)','1:400\\n(1:5)','1:800\\n(1:10)','1:1600\\n(1:20)', 'Positive'])\n",
      "/var/folders/r7/prwgs5r17y36dgc_n0h6rd300000gn/T/ipykernel_69900/1523200844.py:19: UserWarning: FixedFormatter should only be used together with FixedLocator\n",
      "  ax.set_xticklabels(['','1:60\\n(1:1)','1:180\\n(1:3)','1:300\\n(1:5)','1:600\\n(1:10)','1:1200\\n(1:20)', 'Positive'])\n"
     ]
    },
    {
     "data": {
      "image/png": "[encoded data removed]",
      "text/plain": [
       "<Figure size 468x180 with 2 Axes>"
      ]
     },
     "metadata": {
      "needs_background": "light"
     },
     "output_type": "display_data"
    }
   ],
   "source": [
    "plt.style.reload_library()\n",
    "plt.style.use(['science','nature','no-latex'])\n",
    "\n",
    "fig, axes = plt.subplots(1,2, figsize=(6.5,2.5))\n",
    "ax = axes[0]\n",
    "ax.bar(np.arange(1,7), p4_mean, color='darkblue')\n",
    "ax.errorbar(np.arange(1,7), p4_mean, yerr=p4_std, fmt='o', color='gray', ms=0, elinewidth=2)\n",
    "ax.set_ylabel('OD (450 nm)')\n",
    "ax.set_xticklabels(['','1:80\\n(1:1)','1:240\\n(1:3)','1:400\\n(1:5)','1:800\\n(1:10)','1:1600\\n(1:20)', 'Positive'])\n",
    "ax.tick_params(axis='x', which='minor', bottom=False)\n",
    "ax.tick_params(axis='x', which='minor', top=False)\n",
    "ax.text(3,2.55,r'(R)$_2$P4')\n",
    "ax.text(4, 1.5, r'R$_\\mathrm{{max}}$=0.46')\n",
    "\n",
    "ax = axes[1]\n",
    "ax.bar(np.arange(0,6), p5_mean, color='coral')\n",
    "ax.errorbar(np.arange(0,6), p5_mean, yerr=p5_std, fmt='o', color='gray', ms=0, elinewidth=2)\n",
    "ax.set_ylabel('OD (450 nm)')\n",
    "ax.set_xticklabels(['','1:60\\n(1:1)','1:180\\n(1:3)','1:300\\n(1:5)','1:600\\n(1:10)','1:1200\\n(1:20)', 'Positive'])\n",
    "ax.text(2,2.55,r'(R)$_3$P5')\n",
    "ax.tick_params(axis='x', which='minor', bottom=False)\n",
    "ax.tick_params(axis='x', which='minor', top=False)\n",
    "ax.text(1, 2.2, r'R$_\\mathrm{{max}}$=0.15')\n",
    "plt.savefig('elisa_pyplot.jpg', dpi=600, format='jpg', transparent=True, bbox_inches='tight', pad_inches=0.05)"
   ]
  },
  {
   "cell_type": "markdown",
   "id": "69c32470-8363-4fc7-8f35-20002436442f",
   "metadata": {},
   "source": [
    "# MTT assay"
   ]
  },
  {
   "cell_type": "code",
   "execution_count": 26,
   "id": "61103f54-9132-4774-ac47-b910b6d812bd",
   "metadata": {},
   "outputs": [],
   "source": [
    "import numpy as np\n",
    "import matplotlib.pyplot as plt\n",
    "import seaborn as sb\n",
    "import matplotlib\n",
    "\n",
    "control = np.array([100, 100, 100, 100])\n",
    "p4 = [[82.50762, 79.1526, 80.6245], [81.64915,\t77.6824,\t85.47855], [80.26521,\t88.57902,\t83.07753], [83.07753,\t86.12212,\t99.38129]]\n",
    "\n",
    "p5 = [[86.22159,\t80.98323,\t76.45294],[80.18415,\t77.80922,\t77.64339],[77.22772,\t76.20905,\t84.24081],[73.27824,\t82.87074,\t89.1338]]\n",
    "\n",
    "x = [1, 10, 50, 100]"
   ]
  },
  {
   "cell_type": "code",
   "execution_count": 27,
   "id": "4d21622e-7a16-4dc1-8912-d9895c3976be",
   "metadata": {},
   "outputs": [],
   "source": [
    "p4_mean = np.mean(p4, axis=1)\n",
    "p5_mean = np.mean(p5, axis=1)\n",
    "\n",
    "p4_std = np.std(p4, axis=1)\n",
    "p5_std = np.std(p5, axis=1)"
   ]
  },
  {
   "cell_type": "code",
   "execution_count": 30,
   "id": "b844ad83-984f-4bba-a6cb-3e86aa016a3c",
   "metadata": {},
   "outputs": [
    {
     "data": {
      "image/png": "[encoded data removed]",
      "text/plain": [
       "<Figure size 396x234 with 1 Axes>"
      ]
     },
     "metadata": {
      "needs_background": "light"
     },
     "output_type": "display_data"
    }
   ],
   "source": [
    "plt.style.reload_library()\n",
    "plt.style.use(['nature','no-latex'])\n",
    "plt.figure(figsize=(5.5,3.25))\n",
    "\n",
    "positions = [0, 5, 10]\n",
    "\n",
    "plt.bar(np.arange(0,4), control, color=['gainsboro', 'darkgrey', 'gray', 'black'])\n",
    "plt.bar(np.arange(6,10),p4_mean, color=['gainsboro', 'darkgrey', 'gray', 'black'])\n",
    "plt.bar(np.arange(12,16),p5_mean, color=['gainsboro', 'darkgrey', 'gray', 'black'])\n",
    "plt.errorbar(np.arange(6,10), p4_mean, yerr=p4_std, fmt='o', color='k', ms=0, elinewidth=2)\n",
    "plt.errorbar(np.arange(12,16), p5_mean, yerr=p5_std, fmt='o', color='k', ms=0, elinewidth=2)\n",
    "\n",
    "plt.xticks([1.5, 7.5, 13.5], ['Control', r'(R)$_2$P4', r'(R)$_3$P5'])\n",
    "\n",
    "plt.ylabel('Cell Viability (%)', fontsize='11')\n",
    "plt.xticks(fontsize='11')\n",
    "plt.yticks(fontsize='11')\n",
    "plt.legend([r'1 $\\mu$M', r'10 $\\mu$M', r'50 $\\mu$M', r'100 $\\mu$M'], fontsize='11', bbox_to_anchor =(1.3, 1))\n",
    "\n",
    "plt.savefig('mtt_pyplot.jpg', dpi=600, format='jpg', transparent=True, bbox_inches='tight', pad_inches=0.05)"
   ]
  },
  {
   "cell_type": "code",
   "execution_count": null,
   "id": "1a2d2e74-96cd-4aaf-8cc0-87fd8a87b861",
   "metadata": {},
   "outputs": [],
   "source": []
  }
 ],
 "metadata": {
  "kernelspec": {
   "display_name": "Python 3 (ipykernel)",
   "language": "python",
   "name": "python3"
  },
  "language_info": {
   "codemirror_mode": {
    "name": "ipython",
    "version": 3
   },
   "file_extension": ".py",
   "mimetype": "text/x-python",
   "name": "python",
   "nbconvert_exporter": "python",
   "pygments_lexer": "ipython3",
   "version": "3.9.7"
  }
 },
 "nbformat": 4,
 "nbformat_minor": 5
}
